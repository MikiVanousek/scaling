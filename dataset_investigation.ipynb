{
 "cells": [
  {
   "cell_type": "code",
   "execution_count": 5,
   "id": "868281c1",
   "metadata": {},
   "outputs": [
    {
     "data": {
      "text/plain": [
       "0.03125"
      ]
     },
     "execution_count": 5,
     "metadata": {},
     "output_type": "execute_result"
    }
   ],
   "source": [
    "from datasets import load_dataset\n",
    "import torch\n",
    "import numpy as np\n",
    "\n",
    "dataset = load_dataset(\"MikiV/SimpleStories-SimpleStories-chunked-128\")\n",
    "\n",
    "def measure_similarity(a, b):\n",
    "    a_id = np.array(a['input_ids'])\n",
    "    b_id = np.array(b['input_ids'])\n",
    "    return np.sum(a_id == b_id).item() / len(a_id)\n",
    "\n",
    "measure_similarity(dataset['train'][0], dataset['train'][1])"
   ]
  },
  {
   "cell_type": "code",
   "execution_count": 6,
   "id": "2bc243a3",
   "metadata": {},
   "outputs": [
    {
     "data": {
      "text/plain": [
       "1.0"
      ]
     },
     "execution_count": 6,
     "metadata": {},
     "output_type": "execute_result"
    }
   ],
   "source": [
    "\n",
    "measure_similarity(dataset['train'][0], dataset['train'][0])"
   ]
  },
  {
   "cell_type": "code",
   "execution_count": 9,
   "id": "3dc71a78",
   "metadata": {},
   "outputs": [
    {
     "data": {
      "text/plain": [
       "0.015625"
      ]
     },
     "execution_count": 9,
     "metadata": {},
     "output_type": "execute_result"
    }
   ],
   "source": [
    "\n",
    "measure_similarity(dataset['train'][0], dataset['test'][0])\n"
   ]
  },
  {
   "cell_type": "code",
   "execution_count": null,
   "id": "041370be",
   "metadata": {},
   "outputs": [],
   "source": [
    "def find_most_similar(sample, dataset_split):\n",
    "    best_sim = -1\n",
    "    best_idx = -1\n",
    "    for i, item in enumerate(dataset[dataset_split]):\n",
    "        sim = measure_similarity(sample, item)\n",
    "        if sim > best_sim:\n",
    "            best_sim = sim\n",
    "            best_idx = i\n",
    "    return best_idx, best_sim\n",
    "\n",
    "find_most_similar(dataset['test'][2], 'train')"
   ]
  },
  {
   "cell_type": "code",
   "execution_count": null,
   "id": "75a71499",
   "metadata": {},
   "outputs": [],
   "source": []
  }
 ],
 "metadata": {
  "kernelspec": {
   "display_name": "default",
   "language": "python",
   "name": "python3"
  },
  "language_info": {
   "codemirror_mode": {
    "name": "ipython",
    "version": 3
   },
   "file_extension": ".py",
   "mimetype": "text/x-python",
   "name": "python",
   "nbconvert_exporter": "python",
   "pygments_lexer": "ipython3",
   "version": "3.13.7"
  }
 },
 "nbformat": 4,
 "nbformat_minor": 5
}
