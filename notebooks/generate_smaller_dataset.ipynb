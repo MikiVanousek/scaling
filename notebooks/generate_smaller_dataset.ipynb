{
 "cells": [
  {
   "cell_type": "code",
   "execution_count": 1,
   "id": "1c18c199",
   "metadata": {},
   "outputs": [],
   "source": [
    "import os\n",
    "import getpass\n",
    "\n",
    "from datasets import load_dataset, Dataset, DatasetDict\n",
    "from huggingface_hub import login\n",
    "from transformers import AutoTokenizer\n",
    "from dotenv import load_dotenv\n",
    "import matplotlib.pyplot as plt\n",
    "\n",
    "from tqdm import tqdm"
   ]
  },
  {
   "cell_type": "markdown",
   "id": "90903ca9",
   "metadata": {},
   "source": [
    "## Create Chunked Dataset"
   ]
  },
  {
   "cell_type": "code",
   "execution_count": 2,
   "id": "539bab52",
   "metadata": {},
   "outputs": [
    {
     "name": "stderr",
     "output_type": "stream",
     "text": [
      "Note: Environment variable`HF_TOKEN` is set and is the current active token independently from the token you've just configured.\n"
     ]
    }
   ],
   "source": [
    "\n",
    "load_dotenv('.envrc')\n",
    "if 'HF_TOKEN' in os.environ:\n",
    "    login(token=os.environ['HF_TOKEN'])\n",
    "else:\n",
    "    login(token=getpass.getpass('Huggingface token: '))"
   ]
  },
  {
   "cell_type": "code",
   "execution_count": 3,
   "id": "ffa9713f",
   "metadata": {},
   "outputs": [],
   "source": [
    "CHUNK_SIZE = 128\n",
    "SUBCHUNK_SIZE = 64\n",
    "assert CHUNK_SIZE % SUBCHUNK_SIZE == 0\n",
    "SUBCHUNK_RATIO = CHUNK_SIZE // SUBCHUNK_SIZE\n",
    "\n",
    "LARGE_CHUNKED_DATASET = 'MikiV/SimpleStories-SimpleStories-chunked-128'\n",
    "SUBCHUNK_DATASET_NAME = LARGE_CHUNKED_DATASET.replace('chunked', 'subchunked').replace(str(CHUNK_SIZE), f'{SUBCHUNK_SIZE}x{SUBCHUNK_RATIO}')"
   ]
  },
  {
   "cell_type": "code",
   "execution_count": 4,
   "id": "c514e1f5",
   "metadata": {},
   "outputs": [
    {
     "data": {
      "text/plain": [
       "DatasetDict({\n",
       "    train: Dataset({\n",
       "        features: ['input_ids', 'token_type_ids', 'attention_mask'],\n",
       "        num_rows: 3653829\n",
       "    })\n",
       "    test: Dataset({\n",
       "        features: ['input_ids', 'token_type_ids', 'attention_mask'],\n",
       "        num_rows: 152243\n",
       "    })\n",
       "})"
      ]
     },
     "execution_count": 4,
     "metadata": {},
     "output_type": "execute_result"
    }
   ],
   "source": [
    "chunked_dataset = load_dataset(LARGE_CHUNKED_DATASET)\n",
    "chunked_dataset\n"
   ]
  },
  {
   "cell_type": "code",
   "execution_count": null,
   "id": "24751850",
   "metadata": {},
   "outputs": [
    {
     "data": {
      "application/vnd.jupyter.widget-view+json": {
       "model_id": "c5831035dc5340f0911e01019bf0a41d",
       "version_major": 2,
       "version_minor": 0
      },
      "text/plain": [
       "Map:   0%|          | 0/3653829 [00:00<?, ? examples/s]"
      ]
     },
     "metadata": {},
     "output_type": "display_data"
    }
   ],
   "source": [
    "def split_into_subchunks(example):\n",
    "    text = example['input_ids']\n",
    "    subchunks = [\n",
    "        {'input_ids': text[i*SUBCHUNK_SIZE:(i+1)*SUBCHUNK_SIZE]}\n",
    "        for i in range(SUBCHUNK_RATIO)\n",
    "    ]\n",
    "    return {'subchunks': subchunks}\n",
    "\n",
    "subchunked_train = chunked_dataset['train'].map(split_into_subchunks, batched=False)\n",
    "\n",
    "train_data = []\n",
    "for item in subchunked_train:\n",
    "    train_data.extend(item['subchunks'])\n",
    "\n",
    "subchunked_dataset = DatasetDict({\n",
    "    'train': Dataset.from_list(train_data),\n",
    "    'test': chunked_dataset['test']\n",
    "})"
   ]
  },
  {
   "cell_type": "code",
   "execution_count": null,
   "id": "8579c507",
   "metadata": {},
   "outputs": [],
   "source": [
    "print(f\"Train set size: {len(subchunked_dataset['train'])} samples\")\n",
    "print(f\"Original train set size: {len(chunked_dataset['train'])} samples\")"
   ]
  }
 ],
 "metadata": {
  "kernelspec": {
   "display_name": "default",
   "language": "python",
   "name": "python3"
  },
  "language_info": {
   "codemirror_mode": {
    "name": "ipython",
    "version": 3
   },
   "file_extension": ".py",
   "mimetype": "text/x-python",
   "name": "python",
   "nbconvert_exporter": "python",
   "pygments_lexer": "ipython3",
   "version": "3.13.7"
  }
 },
 "nbformat": 4,
 "nbformat_minor": 5
}
